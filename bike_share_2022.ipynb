{
  "nbformat": 4,
  "nbformat_minor": 0,
  "metadata": {
    "colab": {
      "provenance": [],
      "authorship_tag": "ABX9TyNvqI7nfPNiVseQNurrQcmL",
      "include_colab_link": true
    },
    "kernelspec": {
      "name": "python3",
      "display_name": "Python 3"
    },
    "language_info": {
      "name": "python"
    }
  },
  "cells": [
    {
      "cell_type": "markdown",
      "metadata": {
        "id": "view-in-github",
        "colab_type": "text"
      },
      "source": [
        "<a href=\"https://colab.research.google.com/github/Correa-D-Lucas/bike_share_service_2022/blob/main/bike_share_2022.ipynb\" target=\"_parent\"><img src=\"https://colab.research.google.com/assets/colab-badge.svg\" alt=\"Open In Colab\"/></a>"
      ]
    },
    {
      "cell_type": "markdown",
      "source": [
        "# 1. Authenticate to GCP"
      ],
      "metadata": {
        "id": "iq7KHCkvUuGH"
      }
    },
    {
      "cell_type": "code",
      "source": [
        "from google.colab import auth\n",
        "auth.authenticate_user()"
      ],
      "metadata": {
        "id": "InVQM9h_U0vD"
      },
      "execution_count": 1,
      "outputs": []
    },
    {
      "cell_type": "code",
      "source": [
        "project_id = 'citric-inkwell-375211'"
      ],
      "metadata": {
        "id": "T6IYwbQ0U1qZ"
      },
      "execution_count": 2,
      "outputs": []
    },
    {
      "cell_type": "markdown",
      "source": [
        "# 2. Connect to BigQuery API"
      ],
      "metadata": {
        "id": "LIwa8OgkU10e"
      }
    },
    {
      "cell_type": "code",
      "source": [
        "from google.cloud import bigquery"
      ],
      "metadata": {
        "id": "lZNgoyWfU1_W"
      },
      "execution_count": 3,
      "outputs": []
    },
    {
      "cell_type": "code",
      "source": [
        "client = bigquery.Client(project=project_id)"
      ],
      "metadata": {
        "id": "kAq-2IN_WI-6"
      },
      "execution_count": 4,
      "outputs": []
    },
    {
      "cell_type": "markdown",
      "source": [
        "# 3. Acess the Dataset"
      ],
      "metadata": {
        "id": "squRJytbU2Id"
      }
    },
    {
      "cell_type": "code",
      "source": [
        "dataset_ref = client.dataset(\"bike_share\", project = 'lucas-project-373901')"
      ],
      "metadata": {
        "id": "03-fFkWSVA2N"
      },
      "execution_count": 5,
      "outputs": []
    },
    {
      "cell_type": "code",
      "source": [
        "dataset = client.get_dataset(dataset_ref)"
      ],
      "metadata": {
        "id": "MuHSE5bZVBeB"
      },
      "execution_count": 6,
      "outputs": []
    },
    {
      "cell_type": "markdown",
      "source": [
        "# 4. List Tables"
      ],
      "metadata": {
        "id": "AdfMiNS3VBxg"
      }
    },
    {
      "cell_type": "code",
      "source": [
        "tables = list(client.list_tables(dataset))\n",
        "\n",
        "for table in tables:\n",
        "  print(table.table_id)"
      ],
      "metadata": {
        "colab": {
          "base_uri": "https://localhost:8080/"
        },
        "id": "b83YTJPNVMJt",
        "outputId": "5fdd9121-6e3d-4c40-d6e8-df23028c2a5f"
      },
      "execution_count": 7,
      "outputs": [
        {
          "output_type": "stream",
          "name": "stdout",
          "text": [
            "2022_01\n",
            "2022_02\n",
            "2022_03\n",
            "2022_04\n",
            "2022_05\n",
            "2022_06\n",
            "2022_07\n",
            "2022_08\n",
            "2022_09\n",
            "2022_10\n",
            "2022_11\n",
            "2022_12\n",
            "2022_all_year\n"
          ]
        }
      ]
    },
    {
      "cell_type": "markdown",
      "source": [
        "# 5. Check Table Schema"
      ],
      "metadata": {
        "id": "H7pR4fBdVM4l"
      }
    },
    {
      "cell_type": "code",
      "source": [
        "table_ref = dataset_ref.table('2022_all_year')\n",
        "table = client.get_table(table_ref)"
      ],
      "metadata": {
        "id": "o9Ez-ixDVTEH"
      },
      "execution_count": 8,
      "outputs": []
    },
    {
      "cell_type": "code",
      "source": [
        "table.schema"
      ],
      "metadata": {
        "colab": {
          "base_uri": "https://localhost:8080/"
        },
        "id": "NKclx5nxVUso",
        "outputId": "515e3716-231b-4b80-c811-ea2ef5c64264"
      },
      "execution_count": 9,
      "outputs": [
        {
          "output_type": "execute_result",
          "data": {
            "text/plain": [
              "[SchemaField('ride_id', 'STRING', 'NULLABLE', None, None, (), None),\n",
              " SchemaField('rideable_type', 'STRING', 'NULLABLE', None, None, (), None),\n",
              " SchemaField('started_at', 'TIMESTAMP', 'NULLABLE', None, None, (), None),\n",
              " SchemaField('ended_at', 'TIMESTAMP', 'NULLABLE', None, None, (), None),\n",
              " SchemaField('start_station_name', 'STRING', 'NULLABLE', None, None, (), None),\n",
              " SchemaField('start_station_id', 'STRING', 'NULLABLE', None, None, (), None),\n",
              " SchemaField('end_station_name', 'STRING', 'NULLABLE', None, None, (), None),\n",
              " SchemaField('end_station_id', 'STRING', 'NULLABLE', None, None, (), None),\n",
              " SchemaField('start_lat', 'FLOAT', 'NULLABLE', None, None, (), None),\n",
              " SchemaField('start_lng', 'FLOAT', 'NULLABLE', None, None, (), None),\n",
              " SchemaField('end_lat', 'FLOAT', 'NULLABLE', None, None, (), None),\n",
              " SchemaField('end_lng', 'FLOAT', 'NULLABLE', None, None, (), None),\n",
              " SchemaField('member_casual', 'STRING', 'NULLABLE', None, None, (), None)]"
            ]
          },
          "metadata": {},
          "execution_count": 9
        }
      ]
    },
    {
      "cell_type": "markdown",
      "source": [
        "# 6. Show Table as DataFrame"
      ],
      "metadata": {
        "id": "MPVStbHMVU04"
      }
    },
    {
      "cell_type": "code",
      "source": [
        "df = client.list_rows(table).to_dataframe()\n",
        "df.head()"
      ],
      "metadata": {
        "colab": {
          "base_uri": "https://localhost:8080/",
          "height": 357
        },
        "id": "T7Bft3GFZxZX",
        "outputId": "321c98d0-1fce-401a-8681-5ef7bd963921"
      },
      "execution_count": 10,
      "outputs": [
        {
          "output_type": "execute_result",
          "data": {
            "text/plain": [
              "            ride_id  rideable_type                started_at  \\\n",
              "0  327DA49716F4B82F   classic_bike 2022-08-18 10:15:23+00:00   \n",
              "1  1382E3C7697FB94C   classic_bike 2022-08-18 10:15:23+00:00   \n",
              "2  ED1F68D415C6A42C   classic_bike 2022-08-18 10:15:26+00:00   \n",
              "3  9EB885B34425A91F  electric_bike 2022-08-18 10:15:31+00:00   \n",
              "4  1EBFB9643C35DA35  electric_bike 2022-08-18 10:15:31+00:00   \n",
              "\n",
              "                   ended_at                    start_station_name  \\\n",
              "0 2022-08-18 10:39:49+00:00    DuSable Lake Shore Dr & North Blvd   \n",
              "1 2022-08-18 10:30:29+00:00  Orleans St & Chestnut St (NEXT Apts)   \n",
              "2 2022-08-18 10:24:26+00:00             Franklin St & Illinois St   \n",
              "3 2022-08-18 10:40:41+00:00                                  None   \n",
              "4 2022-08-18 10:29:52+00:00                                  None   \n",
              "\n",
              "  start_station_id                   end_station_name end_station_id  \\\n",
              "0           LF-005  DuSable Lake Shore Dr & Monroe St          13300   \n",
              "1              620          Ashland Ave & Division St          13061   \n",
              "2              RN-                Canal St & Adams St          13011   \n",
              "3             None                               None           None   \n",
              "4             None                               None           None   \n",
              "\n",
              "   start_lat  start_lng    end_lat    end_lng member_casual  \n",
              "0  41.911722 -87.626804  41.880958 -87.616743        casual  \n",
              "1  41.898203 -87.637536  41.903450 -87.667747        member  \n",
              "2  41.891023 -87.635480  41.879255 -87.639904        casual  \n",
              "3  41.890000 -87.640000  41.940000 -87.640000        casual  \n",
              "4  41.850000 -87.690000  41.890000 -87.690000        member  "
            ],
            "text/html": [
              "\n",
              "  <div id=\"df-b3148ea1-2986-4d69-9bcb-b914d5dec8c9\">\n",
              "    <div class=\"colab-df-container\">\n",
              "      <div>\n",
              "<style scoped>\n",
              "    .dataframe tbody tr th:only-of-type {\n",
              "        vertical-align: middle;\n",
              "    }\n",
              "\n",
              "    .dataframe tbody tr th {\n",
              "        vertical-align: top;\n",
              "    }\n",
              "\n",
              "    .dataframe thead th {\n",
              "        text-align: right;\n",
              "    }\n",
              "</style>\n",
              "<table border=\"1\" class=\"dataframe\">\n",
              "  <thead>\n",
              "    <tr style=\"text-align: right;\">\n",
              "      <th></th>\n",
              "      <th>ride_id</th>\n",
              "      <th>rideable_type</th>\n",
              "      <th>started_at</th>\n",
              "      <th>ended_at</th>\n",
              "      <th>start_station_name</th>\n",
              "      <th>start_station_id</th>\n",
              "      <th>end_station_name</th>\n",
              "      <th>end_station_id</th>\n",
              "      <th>start_lat</th>\n",
              "      <th>start_lng</th>\n",
              "      <th>end_lat</th>\n",
              "      <th>end_lng</th>\n",
              "      <th>member_casual</th>\n",
              "    </tr>\n",
              "  </thead>\n",
              "  <tbody>\n",
              "    <tr>\n",
              "      <th>0</th>\n",
              "      <td>327DA49716F4B82F</td>\n",
              "      <td>classic_bike</td>\n",
              "      <td>2022-08-18 10:15:23+00:00</td>\n",
              "      <td>2022-08-18 10:39:49+00:00</td>\n",
              "      <td>DuSable Lake Shore Dr &amp; North Blvd</td>\n",
              "      <td>LF-005</td>\n",
              "      <td>DuSable Lake Shore Dr &amp; Monroe St</td>\n",
              "      <td>13300</td>\n",
              "      <td>41.911722</td>\n",
              "      <td>-87.626804</td>\n",
              "      <td>41.880958</td>\n",
              "      <td>-87.616743</td>\n",
              "      <td>casual</td>\n",
              "    </tr>\n",
              "    <tr>\n",
              "      <th>1</th>\n",
              "      <td>1382E3C7697FB94C</td>\n",
              "      <td>classic_bike</td>\n",
              "      <td>2022-08-18 10:15:23+00:00</td>\n",
              "      <td>2022-08-18 10:30:29+00:00</td>\n",
              "      <td>Orleans St &amp; Chestnut St (NEXT Apts)</td>\n",
              "      <td>620</td>\n",
              "      <td>Ashland Ave &amp; Division St</td>\n",
              "      <td>13061</td>\n",
              "      <td>41.898203</td>\n",
              "      <td>-87.637536</td>\n",
              "      <td>41.903450</td>\n",
              "      <td>-87.667747</td>\n",
              "      <td>member</td>\n",
              "    </tr>\n",
              "    <tr>\n",
              "      <th>2</th>\n",
              "      <td>ED1F68D415C6A42C</td>\n",
              "      <td>classic_bike</td>\n",
              "      <td>2022-08-18 10:15:26+00:00</td>\n",
              "      <td>2022-08-18 10:24:26+00:00</td>\n",
              "      <td>Franklin St &amp; Illinois St</td>\n",
              "      <td>RN-</td>\n",
              "      <td>Canal St &amp; Adams St</td>\n",
              "      <td>13011</td>\n",
              "      <td>41.891023</td>\n",
              "      <td>-87.635480</td>\n",
              "      <td>41.879255</td>\n",
              "      <td>-87.639904</td>\n",
              "      <td>casual</td>\n",
              "    </tr>\n",
              "    <tr>\n",
              "      <th>3</th>\n",
              "      <td>9EB885B34425A91F</td>\n",
              "      <td>electric_bike</td>\n",
              "      <td>2022-08-18 10:15:31+00:00</td>\n",
              "      <td>2022-08-18 10:40:41+00:00</td>\n",
              "      <td>None</td>\n",
              "      <td>None</td>\n",
              "      <td>None</td>\n",
              "      <td>None</td>\n",
              "      <td>41.890000</td>\n",
              "      <td>-87.640000</td>\n",
              "      <td>41.940000</td>\n",
              "      <td>-87.640000</td>\n",
              "      <td>casual</td>\n",
              "    </tr>\n",
              "    <tr>\n",
              "      <th>4</th>\n",
              "      <td>1EBFB9643C35DA35</td>\n",
              "      <td>electric_bike</td>\n",
              "      <td>2022-08-18 10:15:31+00:00</td>\n",
              "      <td>2022-08-18 10:29:52+00:00</td>\n",
              "      <td>None</td>\n",
              "      <td>None</td>\n",
              "      <td>None</td>\n",
              "      <td>None</td>\n",
              "      <td>41.850000</td>\n",
              "      <td>-87.690000</td>\n",
              "      <td>41.890000</td>\n",
              "      <td>-87.690000</td>\n",
              "      <td>member</td>\n",
              "    </tr>\n",
              "  </tbody>\n",
              "</table>\n",
              "</div>\n",
              "      <button class=\"colab-df-convert\" onclick=\"convertToInteractive('df-b3148ea1-2986-4d69-9bcb-b914d5dec8c9')\"\n",
              "              title=\"Convert this dataframe to an interactive table.\"\n",
              "              style=\"display:none;\">\n",
              "        \n",
              "  <svg xmlns=\"http://www.w3.org/2000/svg\" height=\"24px\"viewBox=\"0 0 24 24\"\n",
              "       width=\"24px\">\n",
              "    <path d=\"M0 0h24v24H0V0z\" fill=\"none\"/>\n",
              "    <path d=\"M18.56 5.44l.94 2.06.94-2.06 2.06-.94-2.06-.94-.94-2.06-.94 2.06-2.06.94zm-11 1L8.5 8.5l.94-2.06 2.06-.94-2.06-.94L8.5 2.5l-.94 2.06-2.06.94zm10 10l.94 2.06.94-2.06 2.06-.94-2.06-.94-.94-2.06-.94 2.06-2.06.94z\"/><path d=\"M17.41 7.96l-1.37-1.37c-.4-.4-.92-.59-1.43-.59-.52 0-1.04.2-1.43.59L10.3 9.45l-7.72 7.72c-.78.78-.78 2.05 0 2.83L4 21.41c.39.39.9.59 1.41.59.51 0 1.02-.2 1.41-.59l7.78-7.78 2.81-2.81c.8-.78.8-2.07 0-2.86zM5.41 20L4 18.59l7.72-7.72 1.47 1.35L5.41 20z\"/>\n",
              "  </svg>\n",
              "      </button>\n",
              "      \n",
              "  <style>\n",
              "    .colab-df-container {\n",
              "      display:flex;\n",
              "      flex-wrap:wrap;\n",
              "      gap: 12px;\n",
              "    }\n",
              "\n",
              "    .colab-df-convert {\n",
              "      background-color: #E8F0FE;\n",
              "      border: none;\n",
              "      border-radius: 50%;\n",
              "      cursor: pointer;\n",
              "      display: none;\n",
              "      fill: #1967D2;\n",
              "      height: 32px;\n",
              "      padding: 0 0 0 0;\n",
              "      width: 32px;\n",
              "    }\n",
              "\n",
              "    .colab-df-convert:hover {\n",
              "      background-color: #E2EBFA;\n",
              "      box-shadow: 0px 1px 2px rgba(60, 64, 67, 0.3), 0px 1px 3px 1px rgba(60, 64, 67, 0.15);\n",
              "      fill: #174EA6;\n",
              "    }\n",
              "\n",
              "    [theme=dark] .colab-df-convert {\n",
              "      background-color: #3B4455;\n",
              "      fill: #D2E3FC;\n",
              "    }\n",
              "\n",
              "    [theme=dark] .colab-df-convert:hover {\n",
              "      background-color: #434B5C;\n",
              "      box-shadow: 0px 1px 3px 1px rgba(0, 0, 0, 0.15);\n",
              "      filter: drop-shadow(0px 1px 2px rgba(0, 0, 0, 0.3));\n",
              "      fill: #FFFFFF;\n",
              "    }\n",
              "  </style>\n",
              "\n",
              "      <script>\n",
              "        const buttonEl =\n",
              "          document.querySelector('#df-b3148ea1-2986-4d69-9bcb-b914d5dec8c9 button.colab-df-convert');\n",
              "        buttonEl.style.display =\n",
              "          google.colab.kernel.accessAllowed ? 'block' : 'none';\n",
              "\n",
              "        async function convertToInteractive(key) {\n",
              "          const element = document.querySelector('#df-b3148ea1-2986-4d69-9bcb-b914d5dec8c9');\n",
              "          const dataTable =\n",
              "            await google.colab.kernel.invokeFunction('convertToInteractive',\n",
              "                                                     [key], {});\n",
              "          if (!dataTable) return;\n",
              "\n",
              "          const docLinkHtml = 'Like what you see? Visit the ' +\n",
              "            '<a target=\"_blank\" href=https://colab.research.google.com/notebooks/data_table.ipynb>data table notebook</a>'\n",
              "            + ' to learn more about interactive tables.';\n",
              "          element.innerHTML = '';\n",
              "          dataTable['output_type'] = 'display_data';\n",
              "          await google.colab.output.renderOutput(dataTable, element);\n",
              "          const docLink = document.createElement('div');\n",
              "          docLink.innerHTML = docLinkHtml;\n",
              "          element.appendChild(docLink);\n",
              "        }\n",
              "      </script>\n",
              "    </div>\n",
              "  </div>\n",
              "  "
            ]
          },
          "metadata": {},
          "execution_count": 10
        }
      ]
    },
    {
      "cell_type": "markdown",
      "source": [
        "# 7. Disabling Data Table Display"
      ],
      "metadata": {
        "id": "nyZyAYwDamkJ"
      }
    },
    {
      "cell_type": "code",
      "source": [
        "from google.colab import data_table\n",
        "data_table.disable_dataframe_formatter()"
      ],
      "metadata": {
        "id": "D6Mwll6SapSS"
      },
      "execution_count": 11,
      "outputs": []
    },
    {
      "cell_type": "markdown",
      "source": [
        "# 8. Data Cleaning Process"
      ],
      "metadata": {
        "id": "Ph3fsWzmbIix"
      }
    },
    {
      "cell_type": "code",
      "source": [
        "# Importing packages"
      ],
      "metadata": {
        "id": "08QIEv88J0BD"
      },
      "execution_count": 12,
      "outputs": []
    },
    {
      "cell_type": "code",
      "source": [
        "import pandas as pd\n",
        "import numpy as pd \n",
        "import datetime \n",
        "from datetime import timedelta"
      ],
      "metadata": {
        "id": "7ESEknj4iETV"
      },
      "execution_count": 13,
      "outputs": []
    },
    {
      "cell_type": "code",
      "source": [
        "# Create a column named 'trip_duration'"
      ],
      "metadata": {
        "id": "7mlubp87J4J9"
      },
      "execution_count": 14,
      "outputs": []
    },
    {
      "cell_type": "code",
      "source": [
        "df['trip_duration'] = df['ended_at'] - df['started_at']\n",
        "df['trip_duration'].sort_values(ascending = False)"
      ],
      "metadata": {
        "colab": {
          "base_uri": "https://localhost:8080/"
        },
        "id": "fOBCzpDqkXnr",
        "outputId": "d7bcec78-76c4-48eb-b1fc-a27570482a3c"
      },
      "execution_count": 15,
      "outputs": [
        {
          "output_type": "execute_result",
          "data": {
            "text/plain": [
              "319629     28 days 17:47:15\n",
              "4716252    25 days 04:17:48\n",
              "3378968    24 days 21:00:38\n",
              "1382478    23 days 20:34:04\n",
              "609537     23 days 18:08:49\n",
              "                 ...       \n",
              "2534610   -1 days +21:50:55\n",
              "2534631   -1 days +21:49:58\n",
              "2534753   -1 days +21:42:35\n",
              "1484146   -1 days +21:11:18\n",
              "5048035   -8 days +19:26:39\n",
              "Name: trip_duration, Length: 5667717, dtype: timedelta64[ns]"
            ]
          },
          "metadata": {},
          "execution_count": 15
        }
      ]
    },
    {
      "cell_type": "code",
      "source": [
        "# Noticed negative days - It implies that 'started_at' values were greater than 'ended_at' values - Not realistic. \n",
        "\n",
        "# How many rows containing this error? "
      ],
      "metadata": {
        "id": "FsYu979aJ3JF"
      },
      "execution_count": 17,
      "outputs": []
    },
    {
      "cell_type": "code",
      "source": [
        "error = df[df['started_at'] >= df['ended_at']].index\n",
        "len(error)"
      ],
      "metadata": {
        "colab": {
          "base_uri": "https://localhost:8080/"
        },
        "id": "kCkUb3p9tnlc",
        "outputId": "84fa61aa-260e-4747-c37c-ec2b4c821d79"
      },
      "execution_count": 18,
      "outputs": [
        {
          "output_type": "execute_result",
          "data": {
            "text/plain": [
              "531"
            ]
          },
          "metadata": {},
          "execution_count": 18
        }
      ]
    },
    {
      "cell_type": "code",
      "source": [
        "# Calculate percentage of error "
      ],
      "metadata": {
        "id": "bEzrgSxgKTkI"
      },
      "execution_count": 19,
      "outputs": []
    },
    {
      "cell_type": "code",
      "source": [
        "(len(error))/len(df)*100 "
      ],
      "metadata": {
        "colab": {
          "base_uri": "https://localhost:8080/"
        },
        "id": "9E_MJ7GOvsWh",
        "outputId": "50fbfa25-ab2f-4f08-894d-85d62b21d5b0"
      },
      "execution_count": null,
      "outputs": [
        {
          "output_type": "execute_result",
          "data": {
            "text/plain": [
              "0.00936885169107773"
            ]
          },
          "metadata": {},
          "execution_count": 15
        }
      ]
    },
    {
      "cell_type": "markdown",
      "source": [
        "*That is about 0.0093%. I am comfortable in filtering them out.*"
      ],
      "metadata": {
        "id": "vPbslD-uv25P"
      }
    },
    {
      "cell_type": "code",
      "source": [
        "# Data without data errors"
      ],
      "metadata": {
        "id": "HXDWZ1YgKaHj"
      },
      "execution_count": 20,
      "outputs": []
    },
    {
      "cell_type": "code",
      "source": [
        "df.drop(error, inplace = True)         "
      ],
      "metadata": {
        "id": "lEeUy-3ltxZJ"
      },
      "execution_count": 21,
      "outputs": []
    },
    {
      "cell_type": "code",
      "source": [
        "# Checking if still exist no negavite days (in percentage of a hour)"
      ],
      "metadata": {
        "id": "2rgpFMBrKe99"
      },
      "execution_count": 22,
      "outputs": []
    },
    {
      "cell_type": "code",
      "source": [
        "df['trip_duration'] = df['trip_duration'].dt.total_seconds().sort_values(ascending = False)  \n",
        "df['trip_duration_hr'] = df['trip_duration'] / 3600.0   \n",
        "df['trip_duration_hr']    "
      ],
      "metadata": {
        "id": "k19jdKWiqGlw",
        "colab": {
          "base_uri": "https://localhost:8080/"
        },
        "outputId": "e4def50c-e0ef-468f-a784-896f8d5a9dcc"
      },
      "execution_count": 23,
      "outputs": [
        {
          "output_type": "execute_result",
          "data": {
            "text/plain": [
              "0          0.407222\n",
              "1          0.251667\n",
              "2          0.150000\n",
              "3          0.419444\n",
              "4          0.239167\n",
              "             ...   \n",
              "5667712    0.215278\n",
              "5667713    0.088056\n",
              "5667714    0.126111\n",
              "5667715    0.092222\n",
              "5667716    0.122778\n",
              "Name: trip_duration_hr, Length: 5667186, dtype: float64"
            ]
          },
          "metadata": {},
          "execution_count": 23
        }
      ]
    },
    {
      "cell_type": "code",
      "source": [
        "# (Commented !!!) Converting timedelta64[ns] to HH:MM:SS format ----- It would make the column be an Object (data type), I decided not to use it and work with float64. "
      ],
      "metadata": {
        "id": "Sh0YP7ShJVX4"
      },
      "execution_count": 25,
      "outputs": []
    },
    {
      "cell_type": "code",
      "source": [
        "# def sec_to_format(s):\n",
        "   # h,r = divmod(int(s),3600)\n",
        "   # m,s = divmod(r,60)\n",
        "   # return f'{h:03}:{m:02}:{s:02}'\n",
        "\n",
        "# df['trip_duration'] = [sec_to_format(s) for s in df['trip_duration'].dt.total_seconds()]\n",
        "# df['trip_duration'].sort_values(ascending = False)                                        "
      ],
      "metadata": {
        "id": "kXRx8qTakQKt"
      },
      "execution_count": 24,
      "outputs": []
    },
    {
      "cell_type": "code",
      "source": [
        "# Checking data type for 'started_at' column"
      ],
      "metadata": {
        "id": "0yNaUspUJPOE"
      },
      "execution_count": null,
      "outputs": []
    },
    {
      "cell_type": "code",
      "source": [
        "type(df['started_at'])"
      ],
      "metadata": {
        "colab": {
          "base_uri": "https://localhost:8080/"
        },
        "id": "s5BU2u9gxVNk",
        "outputId": "e3f0ced4-a912-4a64-f8c0-bf2474111171"
      },
      "execution_count": 26,
      "outputs": [
        {
          "output_type": "execute_result",
          "data": {
            "text/plain": [
              "pandas.core.series.Series"
            ]
          },
          "metadata": {},
          "execution_count": 26
        }
      ]
    },
    {
      "cell_type": "markdown",
      "source": [
        "#### INFO ABOUT method dt.dayofweek\n",
        "Series.dt.dayofweek\n",
        "(The day of the week with Monday=0, Sunday=6)"
      ],
      "metadata": {
        "id": "aOYQn5TMzzjf"
      }
    },
    {
      "cell_type": "code",
      "source": [
        "# Create a column to express day of the week"
      ],
      "metadata": {
        "id": "zzgSc_UII7pX"
      },
      "execution_count": 27,
      "outputs": []
    },
    {
      "cell_type": "code",
      "source": [
        "df['day_of_week_num'] = df['started_at'].dt.dayofweek\n",
        "df['day_of_week_num'].head()"
      ],
      "metadata": {
        "colab": {
          "base_uri": "https://localhost:8080/"
        },
        "id": "cPL0RBkJyvrI",
        "outputId": "cefd206a-fd06-40e1-d5f6-155b387a1006"
      },
      "execution_count": 28,
      "outputs": [
        {
          "output_type": "execute_result",
          "data": {
            "text/plain": [
              "0    3\n",
              "1    3\n",
              "2    3\n",
              "3    3\n",
              "4    3\n",
              "Name: day_of_week_num, dtype: int64"
            ]
          },
          "metadata": {},
          "execution_count": 28
        }
      ]
    },
    {
      "cell_type": "code",
      "source": [
        "# Create a column with days of the week as string"
      ],
      "metadata": {
        "id": "3Cep7KE3Gop2"
      },
      "execution_count": null,
      "outputs": []
    },
    {
      "cell_type": "code",
      "source": [
        "df['day_of_week_str'] = df.day_of_week_num.replace({0:'Monday', 1:'Tuesday', 2:'Wednesday', 3:'Thursday', 4:'Friday', 5:'saturday', 6: 'Sunday'})"
      ],
      "metadata": {
        "id": "dtYMIDxyzcpn"
      },
      "execution_count": 29,
      "outputs": []
    },
    {
      "cell_type": "code",
      "source": [
        "# Concatenate 'start_station_name' with 'end_station_name' to create a new column named \"Route\""
      ],
      "metadata": {
        "id": "9dHs10K0GwvB"
      },
      "execution_count": 30,
      "outputs": []
    },
    {
      "cell_type": "code",
      "source": [
        "df[\"Route\"] = df['start_station_name'] + ' to ' + df['end_station_name']"
      ],
      "metadata": {
        "id": "UeojmZ7E4LJS"
      },
      "execution_count": 31,
      "outputs": []
    },
    {
      "cell_type": "code",
      "source": [
        "# Checking on the columns I have created"
      ],
      "metadata": {
        "id": "Mj882He9PoAm"
      },
      "execution_count": 32,
      "outputs": []
    },
    {
      "cell_type": "code",
      "source": [
        "df.head()"
      ],
      "metadata": {
        "colab": {
          "base_uri": "https://localhost:8080/",
          "height": 617
        },
        "id": "Dt_vvKra2VKa",
        "outputId": "7274ae06-d8b2-4c08-a4ef-a5b3623b58f4"
      },
      "execution_count": 33,
      "outputs": [
        {
          "output_type": "execute_result",
          "data": {
            "text/plain": [
              "            ride_id  rideable_type                started_at  \\\n",
              "0  327DA49716F4B82F   classic_bike 2022-08-18 10:15:23+00:00   \n",
              "1  1382E3C7697FB94C   classic_bike 2022-08-18 10:15:23+00:00   \n",
              "2  ED1F68D415C6A42C   classic_bike 2022-08-18 10:15:26+00:00   \n",
              "3  9EB885B34425A91F  electric_bike 2022-08-18 10:15:31+00:00   \n",
              "4  1EBFB9643C35DA35  electric_bike 2022-08-18 10:15:31+00:00   \n",
              "\n",
              "                   ended_at                    start_station_name  \\\n",
              "0 2022-08-18 10:39:49+00:00    DuSable Lake Shore Dr & North Blvd   \n",
              "1 2022-08-18 10:30:29+00:00  Orleans St & Chestnut St (NEXT Apts)   \n",
              "2 2022-08-18 10:24:26+00:00             Franklin St & Illinois St   \n",
              "3 2022-08-18 10:40:41+00:00                                  None   \n",
              "4 2022-08-18 10:29:52+00:00                                  None   \n",
              "\n",
              "  start_station_id                   end_station_name end_station_id  \\\n",
              "0           LF-005  DuSable Lake Shore Dr & Monroe St          13300   \n",
              "1              620          Ashland Ave & Division St          13061   \n",
              "2              RN-                Canal St & Adams St          13011   \n",
              "3             None                               None           None   \n",
              "4             None                               None           None   \n",
              "\n",
              "   start_lat  start_lng    end_lat    end_lng member_casual  trip_duration  \\\n",
              "0  41.911722 -87.626804  41.880958 -87.616743        casual         1466.0   \n",
              "1  41.898203 -87.637536  41.903450 -87.667747        member          906.0   \n",
              "2  41.891023 -87.635480  41.879255 -87.639904        casual          540.0   \n",
              "3  41.890000 -87.640000  41.940000 -87.640000        casual         1510.0   \n",
              "4  41.850000 -87.690000  41.890000 -87.690000        member          861.0   \n",
              "\n",
              "   trip_duration_hr  day_of_week_num day_of_week_str  \\\n",
              "0          0.407222                3        Thursday   \n",
              "1          0.251667                3        Thursday   \n",
              "2          0.150000                3        Thursday   \n",
              "3          0.419444                3        Thursday   \n",
              "4          0.239167                3        Thursday   \n",
              "\n",
              "                                               Route  \n",
              "0  DuSable Lake Shore Dr & North Blvd to DuSable ...  \n",
              "1  Orleans St & Chestnut St (NEXT Apts) to Ashlan...  \n",
              "2   Franklin St & Illinois St to Canal St & Adams St  \n",
              "3                                                NaN  \n",
              "4                                                NaN  "
            ],
            "text/html": [
              "\n",
              "  <div id=\"df-8430e040-d3e8-4076-82b6-eb7fd100d35a\">\n",
              "    <div class=\"colab-df-container\">\n",
              "      <div>\n",
              "<style scoped>\n",
              "    .dataframe tbody tr th:only-of-type {\n",
              "        vertical-align: middle;\n",
              "    }\n",
              "\n",
              "    .dataframe tbody tr th {\n",
              "        vertical-align: top;\n",
              "    }\n",
              "\n",
              "    .dataframe thead th {\n",
              "        text-align: right;\n",
              "    }\n",
              "</style>\n",
              "<table border=\"1\" class=\"dataframe\">\n",
              "  <thead>\n",
              "    <tr style=\"text-align: right;\">\n",
              "      <th></th>\n",
              "      <th>ride_id</th>\n",
              "      <th>rideable_type</th>\n",
              "      <th>started_at</th>\n",
              "      <th>ended_at</th>\n",
              "      <th>start_station_name</th>\n",
              "      <th>start_station_id</th>\n",
              "      <th>end_station_name</th>\n",
              "      <th>end_station_id</th>\n",
              "      <th>start_lat</th>\n",
              "      <th>start_lng</th>\n",
              "      <th>end_lat</th>\n",
              "      <th>end_lng</th>\n",
              "      <th>member_casual</th>\n",
              "      <th>trip_duration</th>\n",
              "      <th>trip_duration_hr</th>\n",
              "      <th>day_of_week_num</th>\n",
              "      <th>day_of_week_str</th>\n",
              "      <th>Route</th>\n",
              "    </tr>\n",
              "  </thead>\n",
              "  <tbody>\n",
              "    <tr>\n",
              "      <th>0</th>\n",
              "      <td>327DA49716F4B82F</td>\n",
              "      <td>classic_bike</td>\n",
              "      <td>2022-08-18 10:15:23+00:00</td>\n",
              "      <td>2022-08-18 10:39:49+00:00</td>\n",
              "      <td>DuSable Lake Shore Dr &amp; North Blvd</td>\n",
              "      <td>LF-005</td>\n",
              "      <td>DuSable Lake Shore Dr &amp; Monroe St</td>\n",
              "      <td>13300</td>\n",
              "      <td>41.911722</td>\n",
              "      <td>-87.626804</td>\n",
              "      <td>41.880958</td>\n",
              "      <td>-87.616743</td>\n",
              "      <td>casual</td>\n",
              "      <td>1466.0</td>\n",
              "      <td>0.407222</td>\n",
              "      <td>3</td>\n",
              "      <td>Thursday</td>\n",
              "      <td>DuSable Lake Shore Dr &amp; North Blvd to DuSable ...</td>\n",
              "    </tr>\n",
              "    <tr>\n",
              "      <th>1</th>\n",
              "      <td>1382E3C7697FB94C</td>\n",
              "      <td>classic_bike</td>\n",
              "      <td>2022-08-18 10:15:23+00:00</td>\n",
              "      <td>2022-08-18 10:30:29+00:00</td>\n",
              "      <td>Orleans St &amp; Chestnut St (NEXT Apts)</td>\n",
              "      <td>620</td>\n",
              "      <td>Ashland Ave &amp; Division St</td>\n",
              "      <td>13061</td>\n",
              "      <td>41.898203</td>\n",
              "      <td>-87.637536</td>\n",
              "      <td>41.903450</td>\n",
              "      <td>-87.667747</td>\n",
              "      <td>member</td>\n",
              "      <td>906.0</td>\n",
              "      <td>0.251667</td>\n",
              "      <td>3</td>\n",
              "      <td>Thursday</td>\n",
              "      <td>Orleans St &amp; Chestnut St (NEXT Apts) to Ashlan...</td>\n",
              "    </tr>\n",
              "    <tr>\n",
              "      <th>2</th>\n",
              "      <td>ED1F68D415C6A42C</td>\n",
              "      <td>classic_bike</td>\n",
              "      <td>2022-08-18 10:15:26+00:00</td>\n",
              "      <td>2022-08-18 10:24:26+00:00</td>\n",
              "      <td>Franklin St &amp; Illinois St</td>\n",
              "      <td>RN-</td>\n",
              "      <td>Canal St &amp; Adams St</td>\n",
              "      <td>13011</td>\n",
              "      <td>41.891023</td>\n",
              "      <td>-87.635480</td>\n",
              "      <td>41.879255</td>\n",
              "      <td>-87.639904</td>\n",
              "      <td>casual</td>\n",
              "      <td>540.0</td>\n",
              "      <td>0.150000</td>\n",
              "      <td>3</td>\n",
              "      <td>Thursday</td>\n",
              "      <td>Franklin St &amp; Illinois St to Canal St &amp; Adams St</td>\n",
              "    </tr>\n",
              "    <tr>\n",
              "      <th>3</th>\n",
              "      <td>9EB885B34425A91F</td>\n",
              "      <td>electric_bike</td>\n",
              "      <td>2022-08-18 10:15:31+00:00</td>\n",
              "      <td>2022-08-18 10:40:41+00:00</td>\n",
              "      <td>None</td>\n",
              "      <td>None</td>\n",
              "      <td>None</td>\n",
              "      <td>None</td>\n",
              "      <td>41.890000</td>\n",
              "      <td>-87.640000</td>\n",
              "      <td>41.940000</td>\n",
              "      <td>-87.640000</td>\n",
              "      <td>casual</td>\n",
              "      <td>1510.0</td>\n",
              "      <td>0.419444</td>\n",
              "      <td>3</td>\n",
              "      <td>Thursday</td>\n",
              "      <td>NaN</td>\n",
              "    </tr>\n",
              "    <tr>\n",
              "      <th>4</th>\n",
              "      <td>1EBFB9643C35DA35</td>\n",
              "      <td>electric_bike</td>\n",
              "      <td>2022-08-18 10:15:31+00:00</td>\n",
              "      <td>2022-08-18 10:29:52+00:00</td>\n",
              "      <td>None</td>\n",
              "      <td>None</td>\n",
              "      <td>None</td>\n",
              "      <td>None</td>\n",
              "      <td>41.850000</td>\n",
              "      <td>-87.690000</td>\n",
              "      <td>41.890000</td>\n",
              "      <td>-87.690000</td>\n",
              "      <td>member</td>\n",
              "      <td>861.0</td>\n",
              "      <td>0.239167</td>\n",
              "      <td>3</td>\n",
              "      <td>Thursday</td>\n",
              "      <td>NaN</td>\n",
              "    </tr>\n",
              "  </tbody>\n",
              "</table>\n",
              "</div>\n",
              "      <button class=\"colab-df-convert\" onclick=\"convertToInteractive('df-8430e040-d3e8-4076-82b6-eb7fd100d35a')\"\n",
              "              title=\"Convert this dataframe to an interactive table.\"\n",
              "              style=\"display:none;\">\n",
              "        \n",
              "  <svg xmlns=\"http://www.w3.org/2000/svg\" height=\"24px\"viewBox=\"0 0 24 24\"\n",
              "       width=\"24px\">\n",
              "    <path d=\"M0 0h24v24H0V0z\" fill=\"none\"/>\n",
              "    <path d=\"M18.56 5.44l.94 2.06.94-2.06 2.06-.94-2.06-.94-.94-2.06-.94 2.06-2.06.94zm-11 1L8.5 8.5l.94-2.06 2.06-.94-2.06-.94L8.5 2.5l-.94 2.06-2.06.94zm10 10l.94 2.06.94-2.06 2.06-.94-2.06-.94-.94-2.06-.94 2.06-2.06.94z\"/><path d=\"M17.41 7.96l-1.37-1.37c-.4-.4-.92-.59-1.43-.59-.52 0-1.04.2-1.43.59L10.3 9.45l-7.72 7.72c-.78.78-.78 2.05 0 2.83L4 21.41c.39.39.9.59 1.41.59.51 0 1.02-.2 1.41-.59l7.78-7.78 2.81-2.81c.8-.78.8-2.07 0-2.86zM5.41 20L4 18.59l7.72-7.72 1.47 1.35L5.41 20z\"/>\n",
              "  </svg>\n",
              "      </button>\n",
              "      \n",
              "  <style>\n",
              "    .colab-df-container {\n",
              "      display:flex;\n",
              "      flex-wrap:wrap;\n",
              "      gap: 12px;\n",
              "    }\n",
              "\n",
              "    .colab-df-convert {\n",
              "      background-color: #E8F0FE;\n",
              "      border: none;\n",
              "      border-radius: 50%;\n",
              "      cursor: pointer;\n",
              "      display: none;\n",
              "      fill: #1967D2;\n",
              "      height: 32px;\n",
              "      padding: 0 0 0 0;\n",
              "      width: 32px;\n",
              "    }\n",
              "\n",
              "    .colab-df-convert:hover {\n",
              "      background-color: #E2EBFA;\n",
              "      box-shadow: 0px 1px 2px rgba(60, 64, 67, 0.3), 0px 1px 3px 1px rgba(60, 64, 67, 0.15);\n",
              "      fill: #174EA6;\n",
              "    }\n",
              "\n",
              "    [theme=dark] .colab-df-convert {\n",
              "      background-color: #3B4455;\n",
              "      fill: #D2E3FC;\n",
              "    }\n",
              "\n",
              "    [theme=dark] .colab-df-convert:hover {\n",
              "      background-color: #434B5C;\n",
              "      box-shadow: 0px 1px 3px 1px rgba(0, 0, 0, 0.15);\n",
              "      filter: drop-shadow(0px 1px 2px rgba(0, 0, 0, 0.3));\n",
              "      fill: #FFFFFF;\n",
              "    }\n",
              "  </style>\n",
              "\n",
              "      <script>\n",
              "        const buttonEl =\n",
              "          document.querySelector('#df-8430e040-d3e8-4076-82b6-eb7fd100d35a button.colab-df-convert');\n",
              "        buttonEl.style.display =\n",
              "          google.colab.kernel.accessAllowed ? 'block' : 'none';\n",
              "\n",
              "        async function convertToInteractive(key) {\n",
              "          const element = document.querySelector('#df-8430e040-d3e8-4076-82b6-eb7fd100d35a');\n",
              "          const dataTable =\n",
              "            await google.colab.kernel.invokeFunction('convertToInteractive',\n",
              "                                                     [key], {});\n",
              "          if (!dataTable) return;\n",
              "\n",
              "          const docLinkHtml = 'Like what you see? Visit the ' +\n",
              "            '<a target=\"_blank\" href=https://colab.research.google.com/notebooks/data_table.ipynb>data table notebook</a>'\n",
              "            + ' to learn more about interactive tables.';\n",
              "          element.innerHTML = '';\n",
              "          dataTable['output_type'] = 'display_data';\n",
              "          await google.colab.output.renderOutput(dataTable, element);\n",
              "          const docLink = document.createElement('div');\n",
              "          docLink.innerHTML = docLinkHtml;\n",
              "          element.appendChild(docLink);\n",
              "        }\n",
              "      </script>\n",
              "    </div>\n",
              "  </div>\n",
              "  "
            ]
          },
          "metadata": {},
          "execution_count": 33
        }
      ]
    },
    {
      "cell_type": "markdown",
      "source": [
        "# 9. Analytical Investigation"
      ],
      "metadata": {
        "id": "4ewzqz2CSa_W"
      }
    },
    {
      "cell_type": "markdown",
      "source": [
        "### Hypothesis: **Member uses bike share service to go to work, while casual riders use it for enjoyment.**"
      ],
      "metadata": {
        "id": "31-1BzcLUSlH"
      }
    },
    {
      "cell_type": "code",
      "source": [
        "# To get statistical info from dataset"
      ],
      "metadata": {
        "id": "wkY1Cs5cHAPx"
      },
      "execution_count": 47,
      "outputs": []
    },
    {
      "cell_type": "code",
      "source": [
        "df.describe(include = 'all')"
      ],
      "metadata": {
        "colab": {
          "base_uri": "https://localhost:8080/",
          "height": 696
        },
        "id": "jtTIZeVrUU8o",
        "outputId": "f044ec1a-d5f4-4474-b362-21b096d1b624"
      },
      "execution_count": 35,
      "outputs": [
        {
          "output_type": "stream",
          "name": "stderr",
          "text": [
            "<ipython-input-35-74aa2f970831>:1: FutureWarning: Treating datetime data as categorical rather than numeric in `.describe` is deprecated and will be removed in a future version of pandas. Specify `datetime_is_numeric=True` to silence this warning and adopt the future behavior now.\n",
            "  df.describe(include = 'all')\n"
          ]
        },
        {
          "output_type": "execute_result",
          "data": {
            "text/plain": [
              "                 ride_id  rideable_type                 started_at  \\\n",
              "count            5667186        5667186                    5667186   \n",
              "unique           5667186              3                    4745500   \n",
              "top     327DA49716F4B82F  electric_bike  2022-05-30 13:05:15+00:00   \n",
              "freq                   1        2888630                          9   \n",
              "first                NaN            NaN  2022-01-01 00:00:05+00:00   \n",
              "last                 NaN            NaN  2022-12-31 23:59:26+00:00   \n",
              "mean                 NaN            NaN                        NaN   \n",
              "std                  NaN            NaN                        NaN   \n",
              "min                  NaN            NaN                        NaN   \n",
              "25%                  NaN            NaN                        NaN   \n",
              "50%                  NaN            NaN                        NaN   \n",
              "75%                  NaN            NaN                        NaN   \n",
              "max                  NaN            NaN                        NaN   \n",
              "\n",
              "                         ended_at       start_station_name start_station_id  \\\n",
              "count                     5667186                  4834148          4834148   \n",
              "unique                    4758286                     1674             1338   \n",
              "top     2022-08-22 12:47:49+00:00  Streeter Dr & Grand Ave            13022   \n",
              "freq                           20                    75222            75222   \n",
              "first   2022-01-01 00:01:48+00:00                      NaN              NaN   \n",
              "last    2023-01-02 04:56:45+00:00                      NaN              NaN   \n",
              "mean                          NaN                      NaN              NaN   \n",
              "std                           NaN                      NaN              NaN   \n",
              "min                           NaN                      NaN              NaN   \n",
              "25%                           NaN                      NaN              NaN   \n",
              "50%                           NaN                      NaN              NaN   \n",
              "75%                           NaN                      NaN              NaN   \n",
              "max                           NaN                      NaN              NaN   \n",
              "\n",
              "               end_station_name end_station_id     start_lat     start_lng  \\\n",
              "count                   4774650        4774650  5.667186e+06  5.667186e+06   \n",
              "unique                     1692           1341           NaN           NaN   \n",
              "top     Streeter Dr & Grand Ave          13022           NaN           NaN   \n",
              "freq                      75371          75371           NaN           NaN   \n",
              "first                       NaN            NaN           NaN           NaN   \n",
              "last                        NaN            NaN           NaN           NaN   \n",
              "mean                        NaN            NaN  4.190222e+01 -8.764783e+01   \n",
              "std                         NaN            NaN  4.626074e-02  2.999933e-02   \n",
              "min                         NaN            NaN  4.164000e+01 -8.784000e+01   \n",
              "25%                         NaN            NaN  4.188103e+01 -8.766154e+01   \n",
              "50%                         NaN            NaN  4.190000e+01 -8.764410e+01   \n",
              "75%                         NaN            NaN  4.193000e+01 -8.762957e+01   \n",
              "max                         NaN            NaN  4.563503e+01 -7.379648e+01   \n",
              "\n",
              "             end_lat       end_lng member_casual  trip_duration  \\\n",
              "count   5.661328e+06  5.661328e+06       5667186   5.667186e+06   \n",
              "unique           NaN           NaN             2            NaN   \n",
              "top              NaN           NaN        member            NaN   \n",
              "freq             NaN           NaN       3345417            NaN   \n",
              "first            NaN           NaN           NaN            NaN   \n",
              "last             NaN           NaN           NaN            NaN   \n",
              "mean    4.190242e+01 -8.764790e+01           NaN   1.166846e+03   \n",
              "std     6.805964e-02  1.083032e-01           NaN   1.056493e+04   \n",
              "min     0.000000e+00 -8.814000e+01           NaN   1.000000e+00   \n",
              "25%     4.188103e+01 -8.766260e+01           NaN   3.490000e+02   \n",
              "50%     4.190000e+01 -8.764414e+01           NaN   6.170000e+02   \n",
              "75%     4.193000e+01 -8.762963e+01           NaN   1.108000e+03   \n",
              "max     4.237000e+01  0.000000e+00           NaN   2.483235e+06   \n",
              "\n",
              "        trip_duration_hr  day_of_week_num day_of_week_str  \\\n",
              "count       5.667186e+06     5.667186e+06         5667186   \n",
              "unique               NaN              NaN               7   \n",
              "top                  NaN              NaN        saturday   \n",
              "freq                 NaN              NaN          916376   \n",
              "first                NaN              NaN             NaN   \n",
              "last                 NaN              NaN             NaN   \n",
              "mean        3.241238e-01     3.061289e+00             NaN   \n",
              "std         2.934704e+00     1.975524e+00             NaN   \n",
              "min         2.777778e-04     0.000000e+00             NaN   \n",
              "25%         9.694444e-02     1.000000e+00             NaN   \n",
              "50%         1.713889e-01     3.000000e+00             NaN   \n",
              "75%         3.077778e-01     5.000000e+00             NaN   \n",
              "max         6.897875e+02     6.000000e+00             NaN   \n",
              "\n",
              "                                                    Route  \n",
              "count                                             4369052  \n",
              "unique                                             174372  \n",
              "top     Streeter Dr & Grand Ave to Streeter Dr & Grand...  \n",
              "freq                                                12192  \n",
              "first                                                 NaN  \n",
              "last                                                  NaN  \n",
              "mean                                                  NaN  \n",
              "std                                                   NaN  \n",
              "min                                                   NaN  \n",
              "25%                                                   NaN  \n",
              "50%                                                   NaN  \n",
              "75%                                                   NaN  \n",
              "max                                                   NaN  "
            ],
            "text/html": [
              "\n",
              "  <div id=\"df-6915349a-2ba9-4264-96e1-b26287bd80d2\">\n",
              "    <div class=\"colab-df-container\">\n",
              "      <div>\n",
              "<style scoped>\n",
              "    .dataframe tbody tr th:only-of-type {\n",
              "        vertical-align: middle;\n",
              "    }\n",
              "\n",
              "    .dataframe tbody tr th {\n",
              "        vertical-align: top;\n",
              "    }\n",
              "\n",
              "    .dataframe thead th {\n",
              "        text-align: right;\n",
              "    }\n",
              "</style>\n",
              "<table border=\"1\" class=\"dataframe\">\n",
              "  <thead>\n",
              "    <tr style=\"text-align: right;\">\n",
              "      <th></th>\n",
              "      <th>ride_id</th>\n",
              "      <th>rideable_type</th>\n",
              "      <th>started_at</th>\n",
              "      <th>ended_at</th>\n",
              "      <th>start_station_name</th>\n",
              "      <th>start_station_id</th>\n",
              "      <th>end_station_name</th>\n",
              "      <th>end_station_id</th>\n",
              "      <th>start_lat</th>\n",
              "      <th>start_lng</th>\n",
              "      <th>end_lat</th>\n",
              "      <th>end_lng</th>\n",
              "      <th>member_casual</th>\n",
              "      <th>trip_duration</th>\n",
              "      <th>trip_duration_hr</th>\n",
              "      <th>day_of_week_num</th>\n",
              "      <th>day_of_week_str</th>\n",
              "      <th>Route</th>\n",
              "    </tr>\n",
              "  </thead>\n",
              "  <tbody>\n",
              "    <tr>\n",
              "      <th>count</th>\n",
              "      <td>5667186</td>\n",
              "      <td>5667186</td>\n",
              "      <td>5667186</td>\n",
              "      <td>5667186</td>\n",
              "      <td>4834148</td>\n",
              "      <td>4834148</td>\n",
              "      <td>4774650</td>\n",
              "      <td>4774650</td>\n",
              "      <td>5.667186e+06</td>\n",
              "      <td>5.667186e+06</td>\n",
              "      <td>5.661328e+06</td>\n",
              "      <td>5.661328e+06</td>\n",
              "      <td>5667186</td>\n",
              "      <td>5.667186e+06</td>\n",
              "      <td>5.667186e+06</td>\n",
              "      <td>5.667186e+06</td>\n",
              "      <td>5667186</td>\n",
              "      <td>4369052</td>\n",
              "    </tr>\n",
              "    <tr>\n",
              "      <th>unique</th>\n",
              "      <td>5667186</td>\n",
              "      <td>3</td>\n",
              "      <td>4745500</td>\n",
              "      <td>4758286</td>\n",
              "      <td>1674</td>\n",
              "      <td>1338</td>\n",
              "      <td>1692</td>\n",
              "      <td>1341</td>\n",
              "      <td>NaN</td>\n",
              "      <td>NaN</td>\n",
              "      <td>NaN</td>\n",
              "      <td>NaN</td>\n",
              "      <td>2</td>\n",
              "      <td>NaN</td>\n",
              "      <td>NaN</td>\n",
              "      <td>NaN</td>\n",
              "      <td>7</td>\n",
              "      <td>174372</td>\n",
              "    </tr>\n",
              "    <tr>\n",
              "      <th>top</th>\n",
              "      <td>327DA49716F4B82F</td>\n",
              "      <td>electric_bike</td>\n",
              "      <td>2022-05-30 13:05:15+00:00</td>\n",
              "      <td>2022-08-22 12:47:49+00:00</td>\n",
              "      <td>Streeter Dr &amp; Grand Ave</td>\n",
              "      <td>13022</td>\n",
              "      <td>Streeter Dr &amp; Grand Ave</td>\n",
              "      <td>13022</td>\n",
              "      <td>NaN</td>\n",
              "      <td>NaN</td>\n",
              "      <td>NaN</td>\n",
              "      <td>NaN</td>\n",
              "      <td>member</td>\n",
              "      <td>NaN</td>\n",
              "      <td>NaN</td>\n",
              "      <td>NaN</td>\n",
              "      <td>saturday</td>\n",
              "      <td>Streeter Dr &amp; Grand Ave to Streeter Dr &amp; Grand...</td>\n",
              "    </tr>\n",
              "    <tr>\n",
              "      <th>freq</th>\n",
              "      <td>1</td>\n",
              "      <td>2888630</td>\n",
              "      <td>9</td>\n",
              "      <td>20</td>\n",
              "      <td>75222</td>\n",
              "      <td>75222</td>\n",
              "      <td>75371</td>\n",
              "      <td>75371</td>\n",
              "      <td>NaN</td>\n",
              "      <td>NaN</td>\n",
              "      <td>NaN</td>\n",
              "      <td>NaN</td>\n",
              "      <td>3345417</td>\n",
              "      <td>NaN</td>\n",
              "      <td>NaN</td>\n",
              "      <td>NaN</td>\n",
              "      <td>916376</td>\n",
              "      <td>12192</td>\n",
              "    </tr>\n",
              "    <tr>\n",
              "      <th>first</th>\n",
              "      <td>NaN</td>\n",
              "      <td>NaN</td>\n",
              "      <td>2022-01-01 00:00:05+00:00</td>\n",
              "      <td>2022-01-01 00:01:48+00:00</td>\n",
              "      <td>NaN</td>\n",
              "      <td>NaN</td>\n",
              "      <td>NaN</td>\n",
              "      <td>NaN</td>\n",
              "      <td>NaN</td>\n",
              "      <td>NaN</td>\n",
              "      <td>NaN</td>\n",
              "      <td>NaN</td>\n",
              "      <td>NaN</td>\n",
              "      <td>NaN</td>\n",
              "      <td>NaN</td>\n",
              "      <td>NaN</td>\n",
              "      <td>NaN</td>\n",
              "      <td>NaN</td>\n",
              "    </tr>\n",
              "    <tr>\n",
              "      <th>last</th>\n",
              "      <td>NaN</td>\n",
              "      <td>NaN</td>\n",
              "      <td>2022-12-31 23:59:26+00:00</td>\n",
              "      <td>2023-01-02 04:56:45+00:00</td>\n",
              "      <td>NaN</td>\n",
              "      <td>NaN</td>\n",
              "      <td>NaN</td>\n",
              "      <td>NaN</td>\n",
              "      <td>NaN</td>\n",
              "      <td>NaN</td>\n",
              "      <td>NaN</td>\n",
              "      <td>NaN</td>\n",
              "      <td>NaN</td>\n",
              "      <td>NaN</td>\n",
              "      <td>NaN</td>\n",
              "      <td>NaN</td>\n",
              "      <td>NaN</td>\n",
              "      <td>NaN</td>\n",
              "    </tr>\n",
              "    <tr>\n",
              "      <th>mean</th>\n",
              "      <td>NaN</td>\n",
              "      <td>NaN</td>\n",
              "      <td>NaN</td>\n",
              "      <td>NaN</td>\n",
              "      <td>NaN</td>\n",
              "      <td>NaN</td>\n",
              "      <td>NaN</td>\n",
              "      <td>NaN</td>\n",
              "      <td>4.190222e+01</td>\n",
              "      <td>-8.764783e+01</td>\n",
              "      <td>4.190242e+01</td>\n",
              "      <td>-8.764790e+01</td>\n",
              "      <td>NaN</td>\n",
              "      <td>1.166846e+03</td>\n",
              "      <td>3.241238e-01</td>\n",
              "      <td>3.061289e+00</td>\n",
              "      <td>NaN</td>\n",
              "      <td>NaN</td>\n",
              "    </tr>\n",
              "    <tr>\n",
              "      <th>std</th>\n",
              "      <td>NaN</td>\n",
              "      <td>NaN</td>\n",
              "      <td>NaN</td>\n",
              "      <td>NaN</td>\n",
              "      <td>NaN</td>\n",
              "      <td>NaN</td>\n",
              "      <td>NaN</td>\n",
              "      <td>NaN</td>\n",
              "      <td>4.626074e-02</td>\n",
              "      <td>2.999933e-02</td>\n",
              "      <td>6.805964e-02</td>\n",
              "      <td>1.083032e-01</td>\n",
              "      <td>NaN</td>\n",
              "      <td>1.056493e+04</td>\n",
              "      <td>2.934704e+00</td>\n",
              "      <td>1.975524e+00</td>\n",
              "      <td>NaN</td>\n",
              "      <td>NaN</td>\n",
              "    </tr>\n",
              "    <tr>\n",
              "      <th>min</th>\n",
              "      <td>NaN</td>\n",
              "      <td>NaN</td>\n",
              "      <td>NaN</td>\n",
              "      <td>NaN</td>\n",
              "      <td>NaN</td>\n",
              "      <td>NaN</td>\n",
              "      <td>NaN</td>\n",
              "      <td>NaN</td>\n",
              "      <td>4.164000e+01</td>\n",
              "      <td>-8.784000e+01</td>\n",
              "      <td>0.000000e+00</td>\n",
              "      <td>-8.814000e+01</td>\n",
              "      <td>NaN</td>\n",
              "      <td>1.000000e+00</td>\n",
              "      <td>2.777778e-04</td>\n",
              "      <td>0.000000e+00</td>\n",
              "      <td>NaN</td>\n",
              "      <td>NaN</td>\n",
              "    </tr>\n",
              "    <tr>\n",
              "      <th>25%</th>\n",
              "      <td>NaN</td>\n",
              "      <td>NaN</td>\n",
              "      <td>NaN</td>\n",
              "      <td>NaN</td>\n",
              "      <td>NaN</td>\n",
              "      <td>NaN</td>\n",
              "      <td>NaN</td>\n",
              "      <td>NaN</td>\n",
              "      <td>4.188103e+01</td>\n",
              "      <td>-8.766154e+01</td>\n",
              "      <td>4.188103e+01</td>\n",
              "      <td>-8.766260e+01</td>\n",
              "      <td>NaN</td>\n",
              "      <td>3.490000e+02</td>\n",
              "      <td>9.694444e-02</td>\n",
              "      <td>1.000000e+00</td>\n",
              "      <td>NaN</td>\n",
              "      <td>NaN</td>\n",
              "    </tr>\n",
              "    <tr>\n",
              "      <th>50%</th>\n",
              "      <td>NaN</td>\n",
              "      <td>NaN</td>\n",
              "      <td>NaN</td>\n",
              "      <td>NaN</td>\n",
              "      <td>NaN</td>\n",
              "      <td>NaN</td>\n",
              "      <td>NaN</td>\n",
              "      <td>NaN</td>\n",
              "      <td>4.190000e+01</td>\n",
              "      <td>-8.764410e+01</td>\n",
              "      <td>4.190000e+01</td>\n",
              "      <td>-8.764414e+01</td>\n",
              "      <td>NaN</td>\n",
              "      <td>6.170000e+02</td>\n",
              "      <td>1.713889e-01</td>\n",
              "      <td>3.000000e+00</td>\n",
              "      <td>NaN</td>\n",
              "      <td>NaN</td>\n",
              "    </tr>\n",
              "    <tr>\n",
              "      <th>75%</th>\n",
              "      <td>NaN</td>\n",
              "      <td>NaN</td>\n",
              "      <td>NaN</td>\n",
              "      <td>NaN</td>\n",
              "      <td>NaN</td>\n",
              "      <td>NaN</td>\n",
              "      <td>NaN</td>\n",
              "      <td>NaN</td>\n",
              "      <td>4.193000e+01</td>\n",
              "      <td>-8.762957e+01</td>\n",
              "      <td>4.193000e+01</td>\n",
              "      <td>-8.762963e+01</td>\n",
              "      <td>NaN</td>\n",
              "      <td>1.108000e+03</td>\n",
              "      <td>3.077778e-01</td>\n",
              "      <td>5.000000e+00</td>\n",
              "      <td>NaN</td>\n",
              "      <td>NaN</td>\n",
              "    </tr>\n",
              "    <tr>\n",
              "      <th>max</th>\n",
              "      <td>NaN</td>\n",
              "      <td>NaN</td>\n",
              "      <td>NaN</td>\n",
              "      <td>NaN</td>\n",
              "      <td>NaN</td>\n",
              "      <td>NaN</td>\n",
              "      <td>NaN</td>\n",
              "      <td>NaN</td>\n",
              "      <td>4.563503e+01</td>\n",
              "      <td>-7.379648e+01</td>\n",
              "      <td>4.237000e+01</td>\n",
              "      <td>0.000000e+00</td>\n",
              "      <td>NaN</td>\n",
              "      <td>2.483235e+06</td>\n",
              "      <td>6.897875e+02</td>\n",
              "      <td>6.000000e+00</td>\n",
              "      <td>NaN</td>\n",
              "      <td>NaN</td>\n",
              "    </tr>\n",
              "  </tbody>\n",
              "</table>\n",
              "</div>\n",
              "      <button class=\"colab-df-convert\" onclick=\"convertToInteractive('df-6915349a-2ba9-4264-96e1-b26287bd80d2')\"\n",
              "              title=\"Convert this dataframe to an interactive table.\"\n",
              "              style=\"display:none;\">\n",
              "        \n",
              "  <svg xmlns=\"http://www.w3.org/2000/svg\" height=\"24px\"viewBox=\"0 0 24 24\"\n",
              "       width=\"24px\">\n",
              "    <path d=\"M0 0h24v24H0V0z\" fill=\"none\"/>\n",
              "    <path d=\"M18.56 5.44l.94 2.06.94-2.06 2.06-.94-2.06-.94-.94-2.06-.94 2.06-2.06.94zm-11 1L8.5 8.5l.94-2.06 2.06-.94-2.06-.94L8.5 2.5l-.94 2.06-2.06.94zm10 10l.94 2.06.94-2.06 2.06-.94-2.06-.94-.94-2.06-.94 2.06-2.06.94z\"/><path d=\"M17.41 7.96l-1.37-1.37c-.4-.4-.92-.59-1.43-.59-.52 0-1.04.2-1.43.59L10.3 9.45l-7.72 7.72c-.78.78-.78 2.05 0 2.83L4 21.41c.39.39.9.59 1.41.59.51 0 1.02-.2 1.41-.59l7.78-7.78 2.81-2.81c.8-.78.8-2.07 0-2.86zM5.41 20L4 18.59l7.72-7.72 1.47 1.35L5.41 20z\"/>\n",
              "  </svg>\n",
              "      </button>\n",
              "      \n",
              "  <style>\n",
              "    .colab-df-container {\n",
              "      display:flex;\n",
              "      flex-wrap:wrap;\n",
              "      gap: 12px;\n",
              "    }\n",
              "\n",
              "    .colab-df-convert {\n",
              "      background-color: #E8F0FE;\n",
              "      border: none;\n",
              "      border-radius: 50%;\n",
              "      cursor: pointer;\n",
              "      display: none;\n",
              "      fill: #1967D2;\n",
              "      height: 32px;\n",
              "      padding: 0 0 0 0;\n",
              "      width: 32px;\n",
              "    }\n",
              "\n",
              "    .colab-df-convert:hover {\n",
              "      background-color: #E2EBFA;\n",
              "      box-shadow: 0px 1px 2px rgba(60, 64, 67, 0.3), 0px 1px 3px 1px rgba(60, 64, 67, 0.15);\n",
              "      fill: #174EA6;\n",
              "    }\n",
              "\n",
              "    [theme=dark] .colab-df-convert {\n",
              "      background-color: #3B4455;\n",
              "      fill: #D2E3FC;\n",
              "    }\n",
              "\n",
              "    [theme=dark] .colab-df-convert:hover {\n",
              "      background-color: #434B5C;\n",
              "      box-shadow: 0px 1px 3px 1px rgba(0, 0, 0, 0.15);\n",
              "      filter: drop-shadow(0px 1px 2px rgba(0, 0, 0, 0.3));\n",
              "      fill: #FFFFFF;\n",
              "    }\n",
              "  </style>\n",
              "\n",
              "      <script>\n",
              "        const buttonEl =\n",
              "          document.querySelector('#df-6915349a-2ba9-4264-96e1-b26287bd80d2 button.colab-df-convert');\n",
              "        buttonEl.style.display =\n",
              "          google.colab.kernel.accessAllowed ? 'block' : 'none';\n",
              "\n",
              "        async function convertToInteractive(key) {\n",
              "          const element = document.querySelector('#df-6915349a-2ba9-4264-96e1-b26287bd80d2');\n",
              "          const dataTable =\n",
              "            await google.colab.kernel.invokeFunction('convertToInteractive',\n",
              "                                                     [key], {});\n",
              "          if (!dataTable) return;\n",
              "\n",
              "          const docLinkHtml = 'Like what you see? Visit the ' +\n",
              "            '<a target=\"_blank\" href=https://colab.research.google.com/notebooks/data_table.ipynb>data table notebook</a>'\n",
              "            + ' to learn more about interactive tables.';\n",
              "          element.innerHTML = '';\n",
              "          dataTable['output_type'] = 'display_data';\n",
              "          await google.colab.output.renderOutput(dataTable, element);\n",
              "          const docLink = document.createElement('div');\n",
              "          docLink.innerHTML = docLinkHtml;\n",
              "          element.appendChild(docLink);\n",
              "        }\n",
              "      </script>\n",
              "    </div>\n",
              "  </div>\n",
              "  "
            ]
          },
          "metadata": {},
          "execution_count": 35
        }
      ]
    },
    {
      "cell_type": "code",
      "source": [
        "# A few insights from the statistical information"
      ],
      "metadata": {
        "id": "Io5X3BorHI5A"
      },
      "execution_count": 36,
      "outputs": []
    },
    {
      "cell_type": "markdown",
      "source": [
        "1. No duplicates \n",
        "2. eletric bike is the most used. \n",
        "3. streeter dr & grand ave most used bike station. \n",
        "4. members are more often riding. \n",
        "5. mean of trip duration is about 19.2 minutes (0.32% of hour)\n",
        "6. saturday is the busiest day (usually)\n",
        "7. most common route = streeter dr & grand ave "
      ],
      "metadata": {
        "id": "hdF7tnRUZmVn"
      }
    },
    {
      "cell_type": "code",
      "source": [
        "# Max time trip (in minutes)"
      ],
      "metadata": {
        "id": "oEx8aaHkHPrN"
      },
      "execution_count": 37,
      "outputs": []
    },
    {
      "cell_type": "code",
      "source": [
        "max(df['trip_duration'])/60     "
      ],
      "metadata": {
        "colab": {
          "base_uri": "https://localhost:8080/"
        },
        "id": "tKtDr5hL3IQn",
        "outputId": "fffaffad-85ab-4e06-c550-ae35a5e1531a"
      },
      "execution_count": 38,
      "outputs": [
        {
          "output_type": "execute_result",
          "data": {
            "text/plain": [
              "41387.25"
            ]
          },
          "metadata": {},
          "execution_count": 38
        }
      ]
    },
    {
      "cell_type": "markdown",
      "source": [
        "### **Number of Rides and Time of Rides per Day of the Week**"
      ],
      "metadata": {
        "id": "dlZY9srdRO2N"
      }
    },
    {
      "cell_type": "code",
      "source": [
        "# Average of time trip per days of the week (in minutes)"
      ],
      "metadata": {
        "id": "DpEiSVu_HStv"
      },
      "execution_count": 39,
      "outputs": []
    },
    {
      "cell_type": "code",
      "source": [
        "((df.groupby('day_of_week_str')['trip_duration_hr'].mean())*60).sort_values(ascending = False)   "
      ],
      "metadata": {
        "colab": {
          "base_uri": "https://localhost:8080/"
        },
        "id": "d31ZwoSo3Cn9",
        "outputId": "05cfc4d0-b063-43db-934d-a3190f0bf2d3"
      },
      "execution_count": 40,
      "outputs": [
        {
          "output_type": "execute_result",
          "data": {
            "text/plain": [
              "day_of_week_str\n",
              "Sunday       24.069652\n",
              "saturday     23.680691\n",
              "Friday       19.008261\n",
              "Monday       18.526242\n",
              "Thursday     17.166157\n",
              "Tuesday      16.746811\n",
              "Wednesday    16.452339\n",
              "Name: trip_duration_hr, dtype: float64"
            ]
          },
          "metadata": {},
          "execution_count": 40
        }
      ]
    },
    {
      "cell_type": "markdown",
      "source": [
        "###### **Sunday** has the **longest trip average**, followed by **Saturday** and **Friday**. (WEEKEND RIDES)"
      ],
      "metadata": {
        "id": "hTNsNQb47Wk1"
      }
    },
    {
      "cell_type": "code",
      "source": [
        " # Num of trips per days of the week"
      ],
      "metadata": {
        "id": "Gcr911ZUHWqS"
      },
      "execution_count": 48,
      "outputs": []
    },
    {
      "cell_type": "code",
      "source": [
        "(df.groupby('day_of_week_str')['ride_id'].count()).sort_values(ascending = False)    "
      ],
      "metadata": {
        "colab": {
          "base_uri": "https://localhost:8080/"
        },
        "id": "sRik9Iqp3C7g",
        "outputId": "7d241045-1dbc-44d2-c120-a48b3f548394"
      },
      "execution_count": 49,
      "outputs": [
        {
          "output_type": "execute_result",
          "data": {
            "text/plain": [
              "day_of_week_str\n",
              "saturday     916376\n",
              "Thursday     841512\n",
              "Friday       801718\n",
              "Wednesday    798175\n",
              "Tuesday      782290\n",
              "Sunday       776161\n",
              "Monday       750954\n",
              "Name: ride_id, dtype: int64"
            ]
          },
          "metadata": {},
          "execution_count": 49
        }
      ]
    },
    {
      "cell_type": "markdown",
      "source": [
        "###### Surpringly, **Sunday is the penultimate place in number of rides**. And, as we notice, Sunday is top 1 in hours riding. (Interesting)  \n",
        "\n",
        "###### **Saturday** is the busiest day, followed by **Thursday** and **Friday**. \n",
        "\n",
        "###### Surprisingly, **Thursday** is busiest than** Friday**. (Interesting)"
      ],
      "metadata": {
        "id": "jxKEmCNc7gXc"
      }
    },
    {
      "cell_type": "markdown",
      "source": [
        "### **Number of Rides and Time of Rides per type of Users**"
      ],
      "metadata": {
        "id": "_H2zD3qO3DFg"
      }
    },
    {
      "cell_type": "code",
      "source": [
        " # Num of trips per type of customer"
      ],
      "metadata": {
        "id": "fMcaZEh1HbQl"
      },
      "execution_count": 50,
      "outputs": []
    },
    {
      "cell_type": "code",
      "source": [
        "(df.groupby(['member_casual'])['ride_id'].count()).sort_values(ascending = False)  "
      ],
      "metadata": {
        "colab": {
          "base_uri": "https://localhost:8080/"
        },
        "id": "ElakU42D8gRC",
        "outputId": "57d28bd0-b9bd-4a8c-8c61-7b3391227a07"
      },
      "execution_count": 51,
      "outputs": [
        {
          "output_type": "execute_result",
          "data": {
            "text/plain": [
              "member_casual\n",
              "member    3345417\n",
              "casual    2321769\n",
              "Name: ride_id, dtype: int64"
            ]
          },
          "metadata": {},
          "execution_count": 51
        }
      ]
    },
    {
      "cell_type": "markdown",
      "source": [
        "##### **Member** rides **more often** than **Casual.**"
      ],
      "metadata": {
        "id": "Ws1glHx58gb-"
      }
    },
    {
      "cell_type": "code",
      "source": [
        "# Average time trip per user types"
      ],
      "metadata": {
        "id": "pEm8kmdLHm46"
      },
      "execution_count": 52,
      "outputs": []
    },
    {
      "cell_type": "code",
      "source": [
        "((df.groupby(['member_casual'])['trip_duration_hr'].mean())*60).sort_values(ascending = False) "
      ],
      "metadata": {
        "colab": {
          "base_uri": "https://localhost:8080/"
        },
        "id": "A0VF0Nl88gnJ",
        "outputId": "da3299ae-c82f-43aa-d6bc-29f31403ec7f"
      },
      "execution_count": 53,
      "outputs": [
        {
          "output_type": "execute_result",
          "data": {
            "text/plain": [
              "member_casual\n",
              "casual    29.148333\n",
              "member    12.714858\n",
              "Name: trip_duration_hr, dtype: float64"
            ]
          },
          "metadata": {},
          "execution_count": 53
        }
      ]
    },
    {
      "cell_type": "markdown",
      "source": [
        "##### **Casual** rides **spend more time riding** than **Member.**"
      ],
      "metadata": {
        "id": "86ilhPki8gxg"
      }
    },
    {
      "cell_type": "code",
      "source": [
        " # Average time trip per day of the week per user type (In  minutes)"
      ],
      "metadata": {
        "id": "JT8-XQSJIBVu"
      },
      "execution_count": 56,
      "outputs": []
    },
    {
      "cell_type": "code",
      "source": [
        "((df.groupby(['member_casual', 'day_of_week_str'])['trip_duration_hr'].mean())*60).sort_values(ascending = False)"
      ],
      "metadata": {
        "colab": {
          "base_uri": "https://localhost:8080/"
        },
        "id": "fSvmN3Yc8g_P",
        "outputId": "f4dc9943-be1a-40e1-ca5f-e31576bc08ba"
      },
      "execution_count": 55,
      "outputs": [
        {
          "output_type": "execute_result",
          "data": {
            "text/plain": [
              "member_casual  day_of_week_str\n",
              "casual         Sunday             34.060572\n",
              "               saturday           32.617876\n",
              "               Monday             29.189675\n",
              "               Friday             28.046850\n",
              "               Tuesday            25.825316\n",
              "               Thursday           25.550397\n",
              "               Wednesday          24.752198\n",
              "member         saturday           14.140955\n",
              "               Sunday             14.032259\n",
              "               Friday             12.531630\n",
              "               Thursday           12.293652\n",
              "               Monday             12.270885\n",
              "               Tuesday            12.130285\n",
              "               Wednesday          12.105606\n",
              "Name: trip_duration_hr, dtype: float64"
            ]
          },
          "metadata": {},
          "execution_count": 55
        }
      ]
    },
    {
      "cell_type": "markdown",
      "source": [
        "#### **Insights:** \n",
        "\n",
        "###### **Background:** We have seen that **Casual users spend more time riding than member users**. We have also seen that **Sunday is the day which people spend more time riding**. Additionally, **Saturday usually is the day of the week with the greatest number of rides**. \n",
        "\n",
        "\n",
        "##### **Casual:** This group has a difference of **~10 minutes riding** between the day with the longest avg ride and the day with the shortest avg ride. Also, **Sunsay is the day this group spend more time riding**(any correlation with Sunday being the day with the longest rides).\n",
        "\n",
        "\n",
        "\n",
        "##### **Member:** This group has a difference of only **~2 minutes riding** between the day with the longest avg ride and the day with the shortest avg ride. Also, **weekday has difference of less than 1 minute avg ride** (pretty constant). \n"
      ],
      "metadata": {
        "id": "lcqh5dGSAt8B"
      }
    },
    {
      "cell_type": "code",
      "source": [
        "# Num of trips per day of the week per user type"
      ],
      "metadata": {
        "id": "BhplS8g4IKOJ"
      },
      "execution_count": 57,
      "outputs": []
    },
    {
      "cell_type": "code",
      "source": [
        "(df.groupby(['member_casual', 'day_of_week_str'])['ride_id'].count()).sort_values(ascending = False)"
      ],
      "metadata": {
        "colab": {
          "base_uri": "https://localhost:8080/"
        },
        "id": "eFbCBQ42CGRe",
        "outputId": "bcc1c143-a053-445d-dac8-c7064af8cfac"
      },
      "execution_count": 59,
      "outputs": [
        {
          "output_type": "execute_result",
          "data": {
            "text/plain": [
              "member_casual  day_of_week_str\n",
              "member         Thursday           532215\n",
              "               Wednesday          523836\n",
              "               Tuesday            518584\n",
              "               Monday             473305\n",
              "casual         saturday           473130\n",
              "member         Friday             467051\n",
              "               saturday           443246\n",
              "casual         Sunday             388981\n",
              "member         Sunday             387180\n",
              "casual         Friday             334667\n",
              "               Thursday           309297\n",
              "               Monday             277649\n",
              "               Wednesday          274339\n",
              "               Tuesday            263706\n",
              "Name: ride_id, dtype: int64"
            ]
          },
          "metadata": {},
          "execution_count": 59
        }
      ]
    },
    {
      "cell_type": "markdown",
      "source": [
        "### Insights: \n",
        "\n",
        "##### **Casual:** Top 3 days of service use: **Saturday**, **Sunday**, and **Friday** (Weekends) \n",
        "\n",
        "##### **Member:** Top 5 days of service use: **Thursday**, **Wed**, **Tuesday**, **Monday**, **Friday** (weekdays)\n",
        "\n",
        "\n",
        "##### Strong Hypothesis proof so far."
      ],
      "metadata": {
        "id": "tVsdv1_8ECBd"
      }
    },
    {
      "cell_type": "code",
      "source": [
        "# Top 5 most ofren used starting stations "
      ],
      "metadata": {
        "id": "anVSpKKVdyyC"
      },
      "execution_count": 67,
      "outputs": []
    },
    {
      "cell_type": "code",
      "source": [
        "df['start_station_name'].value_counts()[:5].index.tolist()"
      ],
      "metadata": {
        "colab": {
          "base_uri": "https://localhost:8080/"
        },
        "id": "By1oxKwFd_8h",
        "outputId": "1bf2ecf4-195b-48a8-e175-ab17444bf017"
      },
      "execution_count": 66,
      "outputs": [
        {
          "output_type": "execute_result",
          "data": {
            "text/plain": [
              "['Streeter Dr & Grand Ave',\n",
              " 'DuSable Lake Shore Dr & Monroe St',\n",
              " 'DuSable Lake Shore Dr & North Blvd',\n",
              " 'Michigan Ave & Oak St',\n",
              " 'Wells St & Concord Ln']"
            ]
          },
          "metadata": {},
          "execution_count": 66
        }
      ]
    },
    {
      "cell_type": "code",
      "source": [
        "# Top 5 most ofren used ending stations "
      ],
      "metadata": {
        "id": "rQBQfkIffUml"
      },
      "execution_count": 68,
      "outputs": []
    },
    {
      "cell_type": "code",
      "source": [
        "df['end_station_name'].value_counts()[:5].index.tolist()"
      ],
      "metadata": {
        "colab": {
          "base_uri": "https://localhost:8080/"
        },
        "id": "gJa1CBtkfZG0",
        "outputId": "2710beb3-d124-4333-bd77-20c6eae3a0bf"
      },
      "execution_count": 69,
      "outputs": [
        {
          "output_type": "execute_result",
          "data": {
            "text/plain": [
              "['Streeter Dr & Grand Ave',\n",
              " 'DuSable Lake Shore Dr & North Blvd',\n",
              " 'DuSable Lake Shore Dr & Monroe St',\n",
              " 'Michigan Ave & Oak St',\n",
              " 'Wells St & Concord Ln']"
            ]
          },
          "metadata": {},
          "execution_count": 69
        }
      ]
    },
    {
      "cell_type": "code",
      "source": [
        "# Top 5 Routes"
      ],
      "metadata": {
        "id": "aqOWF9pGfduM"
      },
      "execution_count": 70,
      "outputs": []
    },
    {
      "cell_type": "code",
      "source": [
        "df['Route'].value_counts()[:5].index.tolist()"
      ],
      "metadata": {
        "colab": {
          "base_uri": "https://localhost:8080/"
        },
        "id": "-tAVtTmgfgze",
        "outputId": "e56495c1-a6f1-4948-83b3-fb0dd4161be0"
      },
      "execution_count": 71,
      "outputs": [
        {
          "output_type": "execute_result",
          "data": {
            "text/plain": [
              "['Streeter Dr & Grand Ave to Streeter Dr & Grand Ave',\n",
              " 'DuSable Lake Shore Dr & Monroe St to DuSable Lake Shore Dr & Monroe St',\n",
              " 'Ellis Ave & 60th St to University Ave & 57th St',\n",
              " 'University Ave & 57th St to Ellis Ave & 60th St',\n",
              " 'Ellis Ave & 60th St to Ellis Ave & 55th St']"
            ]
          },
          "metadata": {},
          "execution_count": 71
        }
      ]
    },
    {
      "cell_type": "markdown",
      "source": [
        "##### **Streeter Dr & Grand Ave** is no doubt the most busiest location. \n",
        "\n",
        "##### Why is that important? **Advertising**, **Maintenance**. \n",
        "\n",
        "##### I would say our **top 5 important locations** are **\"Streeter Dr & Grand Ave\"**, \"**DuSable Lake Shore Dr & Monroe St\"**, and **\"Ellis Ave & 60th St\"**, **\"DuSable Lake Shore Dr & North Blvd\"**, and **\"University Ave & 57th St\"**."
      ],
      "metadata": {
        "id": "KgjFKSqlfvF4"
      }
    },
    {
      "cell_type": "markdown",
      "source": [
        "# 10. Export dataframe into BigQuery (for further analysis and later export to Tableau)"
      ],
      "metadata": {
        "id": "M75mxryj8P2D"
      }
    },
    {
      "cell_type": "code",
      "source": [
        "import pandas_gbq\n",
        "pandas_gbq.to_gbq(df, '2022_bike_share.dataframe_2022', project_id= 'citric-inkwell-375211')"
      ],
      "metadata": {
        "colab": {
          "base_uri": "https://localhost:8080/"
        },
        "id": "2D7HTCwo2omm",
        "outputId": "2385008d-05cd-4fff-8d6f-96215425245f"
      },
      "execution_count": 61,
      "outputs": [
        {
          "output_type": "stream",
          "name": "stderr",
          "text": [
            "100%|██████████| 1/1 [00:00<00:00, 950.44it/s]\n"
          ]
        }
      ]
    },
    {
      "cell_type": "markdown",
      "source": [
        "# 11. Questions for Work in the Future:"
      ],
      "metadata": {
        "id": "coA-_do0FvKZ"
      }
    },
    {
      "cell_type": "markdown",
      "source": [
        "##### Investigate how riders have days of using the service for only one ride. Is it a problem with the checkout system? "
      ],
      "metadata": {
        "id": "1hcpuN0oXnlx"
      }
    },
    {
      "cell_type": "markdown",
      "source": [
        "##### Why would casual riders buy Cyclistic annual memberships?"
      ],
      "metadata": {
        "id": "RySmeyFvFvW0"
      }
    },
    {
      "cell_type": "markdown",
      "source": [
        "##### How can Cyclists use digital media to influence casual riders to become members?"
      ],
      "metadata": {
        "id": "ERXmMEW8Fvj-"
      }
    }
  ]
}